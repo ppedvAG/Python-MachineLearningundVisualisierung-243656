{
 "cells": [
  {
   "attachments": {},
   "cell_type": "markdown",
   "id": "b2d38a1c-7b16-4186-84e9-9f6cd9717823",
   "metadata": {},
   "source": [
    "# Matplotlib\n",
    "\n",
    "Hauptwerkzeug zur Darstellung von Daten\n",
    "\n",
    "https://matplotlib.org/stable/plot_types/index.html"
   ]
  },
  {
   "cell_type": "code",
   "execution_count": 1,
   "id": "a24220d2-f3e1-4d5a-b939-43fcb44eb66d",
   "metadata": {},
   "outputs": [],
   "source": [
    "import numpy as np\n",
    "import pandas as pd\n",
    "import matplotlib.pyplot as plt  # WICHTIG: Hier pyplot importieren"
   ]
  },
  {
   "cell_type": "code",
   "execution_count": 10,
   "id": "547e7b3f-309a-406b-bb80-7222ba10f566",
   "metadata": {},
   "outputs": [],
   "source": [
    "data = pd.read_csv(\"Data/AmazonStock.csv\", parse_dates=True)"
   ]
  },
  {
   "cell_type": "code",
   "execution_count": 11,
   "id": "18384a32-b43f-4039-8982-50c0918704e5",
   "metadata": {},
   "outputs": [
    {
     "data": {
      "text/html": [
       "<div>\n",
       "<style scoped>\n",
       "    .dataframe tbody tr th:only-of-type {\n",
       "        vertical-align: middle;\n",
       "    }\n",
       "\n",
       "    .dataframe tbody tr th {\n",
       "        vertical-align: top;\n",
       "    }\n",
       "\n",
       "    .dataframe thead th {\n",
       "        text-align: right;\n",
       "    }\n",
       "</style>\n",
       "<table border=\"1\" class=\"dataframe\">\n",
       "  <thead>\n",
       "    <tr style=\"text-align: right;\">\n",
       "      <th></th>\n",
       "      <th>Date</th>\n",
       "      <th>Open</th>\n",
       "      <th>High</th>\n",
       "      <th>Low</th>\n",
       "      <th>Close</th>\n",
       "      <th>Adj Close</th>\n",
       "      <th>Volume</th>\n",
       "    </tr>\n",
       "  </thead>\n",
       "  <tbody>\n",
       "    <tr>\n",
       "      <th>0</th>\n",
       "      <td>2013-03-25</td>\n",
       "      <td>12.929000</td>\n",
       "      <td>12.971500</td>\n",
       "      <td>12.725000</td>\n",
       "      <td>12.801000</td>\n",
       "      <td>12.801000</td>\n",
       "      <td>50278000</td>\n",
       "    </tr>\n",
       "    <tr>\n",
       "      <th>1</th>\n",
       "      <td>2013-03-26</td>\n",
       "      <td>12.852500</td>\n",
       "      <td>13.074000</td>\n",
       "      <td>12.814000</td>\n",
       "      <td>13.015500</td>\n",
       "      <td>13.015500</td>\n",
       "      <td>48420000</td>\n",
       "    </tr>\n",
       "    <tr>\n",
       "      <th>2</th>\n",
       "      <td>2013-03-27</td>\n",
       "      <td>12.937500</td>\n",
       "      <td>13.296500</td>\n",
       "      <td>12.895000</td>\n",
       "      <td>13.265000</td>\n",
       "      <td>13.265000</td>\n",
       "      <td>57498000</td>\n",
       "    </tr>\n",
       "    <tr>\n",
       "      <th>3</th>\n",
       "      <td>2013-03-28</td>\n",
       "      <td>13.291000</td>\n",
       "      <td>13.369000</td>\n",
       "      <td>13.203000</td>\n",
       "      <td>13.324500</td>\n",
       "      <td>13.324500</td>\n",
       "      <td>49474000</td>\n",
       "    </tr>\n",
       "    <tr>\n",
       "      <th>4</th>\n",
       "      <td>2013-04-01</td>\n",
       "      <td>13.349000</td>\n",
       "      <td>13.370000</td>\n",
       "      <td>13.050500</td>\n",
       "      <td>13.080500</td>\n",
       "      <td>13.080500</td>\n",
       "      <td>50496000</td>\n",
       "    </tr>\n",
       "    <tr>\n",
       "      <th>...</th>\n",
       "      <td>...</td>\n",
       "      <td>...</td>\n",
       "      <td>...</td>\n",
       "      <td>...</td>\n",
       "      <td>...</td>\n",
       "      <td>...</td>\n",
       "      <td>...</td>\n",
       "    </tr>\n",
       "    <tr>\n",
       "      <th>2514</th>\n",
       "      <td>2023-03-20</td>\n",
       "      <td>98.410004</td>\n",
       "      <td>98.480003</td>\n",
       "      <td>95.699997</td>\n",
       "      <td>97.709999</td>\n",
       "      <td>97.709999</td>\n",
       "      <td>62388900</td>\n",
       "    </tr>\n",
       "    <tr>\n",
       "      <th>2515</th>\n",
       "      <td>2023-03-21</td>\n",
       "      <td>98.139999</td>\n",
       "      <td>100.849998</td>\n",
       "      <td>98.000000</td>\n",
       "      <td>100.610001</td>\n",
       "      <td>100.610001</td>\n",
       "      <td>58597300</td>\n",
       "    </tr>\n",
       "    <tr>\n",
       "      <th>2516</th>\n",
       "      <td>2023-03-22</td>\n",
       "      <td>100.449997</td>\n",
       "      <td>102.099998</td>\n",
       "      <td>98.610001</td>\n",
       "      <td>98.699997</td>\n",
       "      <td>98.699997</td>\n",
       "      <td>57475400</td>\n",
       "    </tr>\n",
       "    <tr>\n",
       "      <th>2517</th>\n",
       "      <td>2023-03-23</td>\n",
       "      <td>100.430000</td>\n",
       "      <td>101.059998</td>\n",
       "      <td>97.620003</td>\n",
       "      <td>98.709999</td>\n",
       "      <td>98.709999</td>\n",
       "      <td>57559300</td>\n",
       "    </tr>\n",
       "    <tr>\n",
       "      <th>2518</th>\n",
       "      <td>2023-03-24</td>\n",
       "      <td>98.070000</td>\n",
       "      <td>98.300003</td>\n",
       "      <td>96.400002</td>\n",
       "      <td>98.129997</td>\n",
       "      <td>98.129997</td>\n",
       "      <td>56095400</td>\n",
       "    </tr>\n",
       "  </tbody>\n",
       "</table>\n",
       "<p>2519 rows × 7 columns</p>\n",
       "</div>"
      ],
      "text/plain": [
       "            Date        Open        High        Low       Close   Adj Close  \\\n",
       "0     2013-03-25   12.929000   12.971500  12.725000   12.801000   12.801000   \n",
       "1     2013-03-26   12.852500   13.074000  12.814000   13.015500   13.015500   \n",
       "2     2013-03-27   12.937500   13.296500  12.895000   13.265000   13.265000   \n",
       "3     2013-03-28   13.291000   13.369000  13.203000   13.324500   13.324500   \n",
       "4     2013-04-01   13.349000   13.370000  13.050500   13.080500   13.080500   \n",
       "...          ...         ...         ...        ...         ...         ...   \n",
       "2514  2023-03-20   98.410004   98.480003  95.699997   97.709999   97.709999   \n",
       "2515  2023-03-21   98.139999  100.849998  98.000000  100.610001  100.610001   \n",
       "2516  2023-03-22  100.449997  102.099998  98.610001   98.699997   98.699997   \n",
       "2517  2023-03-23  100.430000  101.059998  97.620003   98.709999   98.709999   \n",
       "2518  2023-03-24   98.070000   98.300003  96.400002   98.129997   98.129997   \n",
       "\n",
       "        Volume  \n",
       "0     50278000  \n",
       "1     48420000  \n",
       "2     57498000  \n",
       "3     49474000  \n",
       "4     50496000  \n",
       "...        ...  \n",
       "2514  62388900  \n",
       "2515  58597300  \n",
       "2516  57475400  \n",
       "2517  57559300  \n",
       "2518  56095400  \n",
       "\n",
       "[2519 rows x 7 columns]"
      ]
     },
     "execution_count": 11,
     "metadata": {},
     "output_type": "execute_result"
    }
   ],
   "source": [
    "data"
   ]
  },
  {
   "cell_type": "code",
   "execution_count": 12,
   "id": "73a4b168-b958-4671-875d-fcdd6fcfcf2a",
   "metadata": {},
   "outputs": [
    {
     "name": "stdout",
     "output_type": "stream",
     "text": [
      "<class 'pandas.core.frame.DataFrame'>\n",
      "RangeIndex: 2519 entries, 0 to 2518\n",
      "Data columns (total 7 columns):\n",
      " #   Column     Non-Null Count  Dtype  \n",
      "---  ------     --------------  -----  \n",
      " 0   Date       2519 non-null   object \n",
      " 1   Open       2519 non-null   float64\n",
      " 2   High       2519 non-null   float64\n",
      " 3   Low        2519 non-null   float64\n",
      " 4   Close      2519 non-null   float64\n",
      " 5   Adj Close  2519 non-null   float64\n",
      " 6   Volume     2519 non-null   int64  \n",
      "dtypes: float64(5), int64(1), object(1)\n",
      "memory usage: 137.9+ KB\n"
     ]
    }
   ],
   "source": [
    "data.info()"
   ]
  },
  {
   "cell_type": "code",
   "execution_count": 13,
   "id": "92d9f4ad-0bfe-44d8-9423-5bdb64a2f0d4",
   "metadata": {},
   "outputs": [
    {
     "data": {
      "text/plain": [
       "<Axes: >"
      ]
     },
     "execution_count": 13,
     "metadata": {},
     "output_type": "execute_result"
    },
    {
     "data": {
      "image/png": "[encoded data removed]",
      "text/plain": [
       "<Figure size 640x480 with 1 Axes>"
      ]
     },
     "metadata": {},
     "output_type": "display_data"
    }
   ],
   "source": [
    "data.plot()"
   ]
  },
  {
   "cell_type": "code",
   "execution_count": null,
   "id": "9c007dfc-41b7-4392-a812-e2db8dbb12ef",
   "metadata": {},
   "outputs": [],
   "source": []
  }
 ],
 "metadata": {
  "kernelspec": {
   "display_name": "Python 3 (ipykernel)",
   "language": "python",
   "name": "python3"
  },
  "language_info": {
   "codemirror_mode": {
    "name": "ipython",
    "version": 3
   },
   "file_extension": ".py",
   "mimetype": "text/x-python",
   "name": "python",
   "nbconvert_exporter": "python",
   "pygments_lexer": "ipython3",
   "version": "3.12.3"
  }
 },
 "nbformat": 4,
 "nbformat_minor": 5
}
