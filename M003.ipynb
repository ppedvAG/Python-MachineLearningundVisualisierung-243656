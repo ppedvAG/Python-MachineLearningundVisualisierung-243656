{
 "cells": [
  {
   "cell_type": "markdown",
   "id": "30b53b97-6ae9-4d77-9744-2875fdcea737",
   "metadata": {},
   "source": [
    "## Pandas\n",
    "\n",
    "Python Data Analysis Toolkit"
   ]
  },
  {
   "cell_type": "code",
   "execution_count": 1,
   "id": "75d6e923-4740-4454-93cf-5d6ecb0559a7",
   "metadata": {},
   "outputs": [],
   "source": [
    "import numpy as np\n",
    "import pandas as pd"
   ]
  },
  {
   "cell_type": "markdown",
   "id": "8097508c-5dfd-470f-b54f-48d62d1da56b",
   "metadata": {},
   "source": [
    "### Serie\n",
    "\n",
    "Liste von Werten (Array)\n",
    "\n",
    "Zusätzlich zum Array hat die Serie einen Namen und einen benannten Index\n",
    "\n",
    "Unter jeder Serie ist ein Numpy Array"
   ]
  },
  {
   "cell_type": "code",
   "execution_count": 3,
   "id": "3b4b5a14-11f2-4d2c-aa28-9726892df650",
   "metadata": {},
   "outputs": [
    {
     "data": {
      "text/plain": [
       "0     9.00\n",
       "1    83.70\n",
       "2     8.60\n",
       "3     0.38\n",
       "dtype: float64"
      ]
     },
     "execution_count": 3,
     "metadata": {},
     "output_type": "execute_result"
    }
   ],
   "source": [
    "pd.Series([9, 83.7, 8.6, 0.38])"
   ]
  },
  {
   "cell_type": "code",
   "execution_count": 4,
   "id": "1c6d88ef-3419-4cf8-8882-1a9ad6fa2bcf",
   "metadata": {},
   "outputs": [],
   "source": [
    "einwohnerM = pd.Series([9, 83.7, 8.6, 0.38])"
   ]
  },
  {
   "cell_type": "code",
   "execution_count": 5,
   "id": "055a9336-525c-4eda-b205-388131bf81a0",
   "metadata": {},
   "outputs": [],
   "source": [
    "einwohnerM.name = \"Einwohnerzahlen Europa\""
   ]
  },
  {
   "cell_type": "code",
   "execution_count": 6,
   "id": "ef1325d5-11d6-475b-be67-41382abd68b8",
   "metadata": {},
   "outputs": [
    {
     "data": {
      "text/plain": [
       "0     9.00\n",
       "1    83.70\n",
       "2     8.60\n",
       "3     0.38\n",
       "Name: Einwohnerzahlen Europa, dtype: float64"
      ]
     },
     "execution_count": 6,
     "metadata": {},
     "output_type": "execute_result"
    }
   ],
   "source": [
    "einwohnerM"
   ]
  },
  {
   "cell_type": "code",
   "execution_count": 7,
   "id": "723b41d0-42d7-4a13-a06e-0f04c6d608f3",
   "metadata": {},
   "outputs": [],
   "source": [
    "einwohnerM.index = [\"CH\", \"DE\", \"AT\", \"LI\"]"
   ]
  },
  {
   "cell_type": "code",
   "execution_count": 8,
   "id": "d6e3bca6-c6ae-4c35-90e8-6a30c421c380",
   "metadata": {},
   "outputs": [
    {
     "data": {
      "text/plain": [
       "CH     9.00\n",
       "DE    83.70\n",
       "AT     8.60\n",
       "LI     0.38\n",
       "Name: Einwohnerzahlen Europa, dtype: float64"
      ]
     },
     "execution_count": 8,
     "metadata": {},
     "output_type": "execute_result"
    }
   ],
   "source": [
    "einwohnerM"
   ]
  },
  {
   "cell_type": "markdown",
   "id": "e126ecab-c383-4035-b18b-8ad408acac74",
   "metadata": {},
   "source": [
    "Hier können jetzt normale Arrayfunktionen verwendet werden"
   ]
  },
  {
   "cell_type": "code",
   "execution_count": 9,
   "id": "558b455f-9427-4946-9e4f-ca7c5ca684df",
   "metadata": {},
   "outputs": [
    {
     "name": "stderr",
     "output_type": "stream",
     "text": [
      "C:\\Users\\lk3\\AppData\\Local\\Temp\\ipykernel_13096\\3060421205.py:1: FutureWarning: Series.__getitem__ treating keys as positions is deprecated. In a future version, integer keys will always be treated as labels (consistent with DataFrame behavior). To access a value by position, use `ser.iloc[pos]`\n",
      "  einwohnerM[0]\n"
     ]
    },
    {
     "data": {
      "text/plain": [
       "9.0"
      ]
     },
     "execution_count": 9,
     "metadata": {},
     "output_type": "execute_result"
    }
   ],
   "source": [
    "einwohnerM[0]"
   ]
  },
  {
   "cell_type": "code",
   "execution_count": 10,
   "id": "5d88eda9-6274-4551-becd-d22a11ac1b7f",
   "metadata": {},
   "outputs": [
    {
     "data": {
      "text/plain": [
       "8.6"
      ]
     },
     "execution_count": 10,
     "metadata": {},
     "output_type": "execute_result"
    }
   ],
   "source": [
    "einwohnerM[\"AT\"]"
   ]
  },
  {
   "cell_type": "code",
   "execution_count": 11,
   "id": "742ed1b5-49e6-4bf4-a702-c5c59bb560bd",
   "metadata": {},
   "outputs": [
    {
     "data": {
      "text/plain": [
       "CH     9.0\n",
       "DE    83.7\n",
       "AT     8.6\n",
       "Name: Einwohnerzahlen Europa, dtype: float64"
      ]
     },
     "execution_count": 11,
     "metadata": {},
     "output_type": "execute_result"
    }
   ],
   "source": [
    "einwohnerM[\"CH\":\"AT\"]"
   ]
  },
  {
   "cell_type": "markdown",
   "id": "5700c9fd-1d8f-49d4-a7d3-0f877d82ba88",
   "metadata": {},
   "source": [
    "Aufgabe: Alle Länder finden, welche überdurchschnittlich viele Einwohner haben"
   ]
  },
  {
   "cell_type": "code",
   "execution_count": 12,
   "id": "b1a6e2d4-1560-48c5-bda3-357e34c1d5f4",
   "metadata": {},
   "outputs": [
    {
     "data": {
      "text/plain": [
       "25.419999999999998"
      ]
     },
     "execution_count": 12,
     "metadata": {},
     "output_type": "execute_result"
    }
   ],
   "source": [
    "einwohnerM.mean()"
   ]
  },
  {
   "cell_type": "code",
   "execution_count": 14,
   "id": "8185bed5-a918-4b89-8996-ddb9d0b785f0",
   "metadata": {},
   "outputs": [
    {
     "data": {
      "text/plain": [
       "CH    False\n",
       "DE     True\n",
       "AT    False\n",
       "LI    False\n",
       "Name: Einwohnerzahlen Europa, dtype: bool"
      ]
     },
     "execution_count": 14,
     "metadata": {},
     "output_type": "execute_result"
    }
   ],
   "source": [
    "einwohnerM > einwohnerM.mean()"
   ]
  },
  {
   "cell_type": "code",
   "execution_count": 15,
   "id": "9e67f89e-0c0d-4cda-b22e-79c38fa9f409",
   "metadata": {},
   "outputs": [
    {
     "data": {
      "text/plain": [
       "DE    83.7\n",
       "Name: Einwohnerzahlen Europa, dtype: float64"
      ]
     },
     "execution_count": 15,
     "metadata": {},
     "output_type": "execute_result"
    }
   ],
   "source": [
    "einwohnerM[einwohnerM > einwohnerM.mean()]"
   ]
  },
  {
   "cell_type": "markdown",
   "id": "325d163c-a947-446a-983b-aecc3c74cac0",
   "metadata": {},
   "source": [
    "### DataFrame\n",
    "\n",
    "Zweidimensionale Sammlung von Serien (= Tabelle)"
   ]
  },
  {
   "cell_type": "code",
   "execution_count": 16,
   "id": "6a0feeec-73a7-451c-b66a-0e92b1f425ea",
   "metadata": {},
   "outputs": [],
   "source": [
    "data = pd.DataFrame({\"Col1\": [1, 2, 3], \"Col2\": [4, 5, 6], \"Col3\": [7, 8, 9]})"
   ]
  },
  {
   "cell_type": "code",
   "execution_count": 17,
   "id": "5e078c9b-23df-40f4-bf42-ea8f05df9de5",
   "metadata": {},
   "outputs": [
    {
     "data": {
      "text/html": [
       "<div>\n",
       "<style scoped>\n",
       "    .dataframe tbody tr th:only-of-type {\n",
       "        vertical-align: middle;\n",
       "    }\n",
       "\n",
       "    .dataframe tbody tr th {\n",
       "        vertical-align: top;\n",
       "    }\n",
       "\n",
       "    .dataframe thead th {\n",
       "        text-align: right;\n",
       "    }\n",
       "</style>\n",
       "<table border=\"1\" class=\"dataframe\">\n",
       "  <thead>\n",
       "    <tr style=\"text-align: right;\">\n",
       "      <th></th>\n",
       "      <th>Col1</th>\n",
       "      <th>Col2</th>\n",
       "      <th>Col3</th>\n",
       "    </tr>\n",
       "  </thead>\n",
       "  <tbody>\n",
       "    <tr>\n",
       "      <th>0</th>\n",
       "      <td>1</td>\n",
       "      <td>4</td>\n",
       "      <td>7</td>\n",
       "    </tr>\n",
       "    <tr>\n",
       "      <th>1</th>\n",
       "      <td>2</td>\n",
       "      <td>5</td>\n",
       "      <td>8</td>\n",
       "    </tr>\n",
       "    <tr>\n",
       "      <th>2</th>\n",
       "      <td>3</td>\n",
       "      <td>6</td>\n",
       "      <td>9</td>\n",
       "    </tr>\n",
       "  </tbody>\n",
       "</table>\n",
       "</div>"
      ],
      "text/plain": [
       "   Col1  Col2  Col3\n",
       "0     1     4     7\n",
       "1     2     5     8\n",
       "2     3     6     9"
      ]
     },
     "execution_count": 17,
     "metadata": {},
     "output_type": "execute_result"
    }
   ],
   "source": [
    "data"
   ]
  },
  {
   "cell_type": "markdown",
   "id": "34165553-e69c-4fa5-982a-45d880ada860",
   "metadata": {},
   "source": [
    "#### Externe Daten einlesen\n",
    "\n",
    "Daten aus beliebigen Quellen einlesen (z.B. Datei, Datenbank, ...)\n",
    "\n",
    "Dafür gibt es in Pandas eine Sammlung von Methoden, namens read-Methoden"
   ]
  },
  {
   "cell_type": "code",
   "execution_count": null,
   "id": "a72bfcb8-7c4f-43d8-bf25-c4dda5aaf1bd",
   "metadata": {},
   "outputs": [],
   "source": [
    "pd.read_csv(\"Data/PopulationData.csv\")"
   ]
  }
 ],
 "metadata": {
  "kernelspec": {
   "display_name": "Python 3 (ipykernel)",
   "language": "python",
   "name": "python3"
  },
  "language_info": {
   "codemirror_mode": {
    "name": "ipython",
    "version": 3
   },
   "file_extension": ".py",
   "mimetype": "text/x-python",
   "name": "python",
   "nbconvert_exporter": "python",
   "pygments_lexer": "ipython3",
   "version": "3.12.3"
  }
 },
 "nbformat": 4,
 "nbformat_minor": 5
}
