{
 "cells": [
  {
   "cell_type": "markdown",
   "id": "b9d73fa0-1ee2-4c3f-bc0c-ca012e195134",
   "metadata": {},
   "source": [
    "### IPython Notebooks"
   ]
  },
  {
   "cell_type": "markdown",
   "id": "527121b5-3eb4-49ac-98b6-ac58ab9aa23f",
   "metadata": {},
   "source": [
    "Funktionen:\n",
    "- Zellen\n",
    "    - Zellen einzeln ausführen\n",
    "    - Schöner Text (Markdown)\n",
    "    - Code schnell/unabhängig ausführen\n",
    "- Grafiken darstellen\n",
    "    - Tabellen\n",
    "    - Graphen\n",
    "    - Diagramme\n",
    " \n",
    "Verwendung:\n",
    "- Zellen mit Code\n",
    "- Zellen einzeln ausführen\n",
    "- Inhalte von vorherigen Zellen sind in den nachfolgenden Zellen verfügbar"
   ]
  },
  {
   "cell_type": "code",
   "execution_count": 1,
   "id": "65fa051b-5eaa-45c9-9543-b6919ecfc5e0",
   "metadata": {},
   "outputs": [],
   "source": [
    "x = 5"
   ]
  },
  {
   "cell_type": "code",
   "execution_count": 2,
   "id": "6a1e3880-ae5c-4023-a885-8930fb01ff00",
   "metadata": {},
   "outputs": [
    {
     "data": {
      "text/plain": [
       "25"
      ]
     },
     "execution_count": 2,
     "metadata": {},
     "output_type": "execute_result"
    }
   ],
   "source": [
    "x ** 2"
   ]
  },
  {
   "cell_type": "markdown",
   "id": "321282b3-10d7-4c38-b8e6-759332639f3f",
   "metadata": {},
   "source": [
    "## Markdown"
   ]
  },
  {
   "cell_type": "markdown",
   "id": "5c831408-86dc-40c6-91f6-c419c08d2a5e",
   "metadata": {},
   "source": [
    "### Überschrift\n",
    "\n",
    "#### Überschrift\n",
    "\n",
    "##### Überschrift\n",
    "\n",
    "- Aufzählung\n",
    "    - Aufzählung\n",
    "        - Aufzählung\n",
    "     \n",
    "**Fetter Text**\n",
    "\n",
    "_Kursiver Text_\n",
    "\n",
    "> Zitat https://ppedv.de/"
   ]
  },
  {
   "cell_type": "markdown",
   "id": "43eda949-0b75-4d57-92c8-9db9a448cf27",
   "metadata": {},
   "source": [
    "## Grafiken darstellen"
   ]
  },
  {
   "cell_type": "code",
   "execution_count": 3,
   "id": "3abdf84b-9fae-4470-ac55-2c0e4e13085e",
   "metadata": {},
   "outputs": [],
   "source": [
    "import pandas as pd"
   ]
  },
  {
   "cell_type": "code",
   "execution_count": 14,
   "id": "500d45dc-bae3-4097-9f60-70a25dd49798",
   "metadata": {},
   "outputs": [
    {
     "data": {
      "text/html": [
       "<div>\n",
       "<style scoped>\n",
       "    .dataframe tbody tr th:only-of-type {\n",
       "        vertical-align: middle;\n",
       "    }\n",
       "\n",
       "    .dataframe tbody tr th {\n",
       "        vertical-align: top;\n",
       "    }\n",
       "\n",
       "    .dataframe thead th {\n",
       "        text-align: right;\n",
       "    }\n",
       "</style>\n",
       "<table border=\"1\" class=\"dataframe\">\n",
       "  <thead>\n",
       "    <tr style=\"text-align: right;\">\n",
       "      <th></th>\n",
       "      <th>Col1</th>\n",
       "      <th>Col2</th>\n",
       "      <th>Col3</th>\n",
       "    </tr>\n",
       "  </thead>\n",
       "  <tbody>\n",
       "    <tr>\n",
       "      <th>0</th>\n",
       "      <td>1</td>\n",
       "      <td>4</td>\n",
       "      <td>7</td>\n",
       "    </tr>\n",
       "    <tr>\n",
       "      <th>1</th>\n",
       "      <td>2</td>\n",
       "      <td>5</td>\n",
       "      <td>8</td>\n",
       "    </tr>\n",
       "    <tr>\n",
       "      <th>2</th>\n",
       "      <td>3</td>\n",
       "      <td>6</td>\n",
       "      <td>9</td>\n",
       "    </tr>\n",
       "  </tbody>\n",
       "</table>\n",
       "</div>"
      ],
      "text/plain": [
       "   Col1  Col2  Col3\n",
       "0     1     4     7\n",
       "1     2     5     8\n",
       "2     3     6     9"
      ]
     },
     "execution_count": 14,
     "metadata": {},
     "output_type": "execute_result"
    }
   ],
   "source": [
    "pd.DataFrame({\"Col1\": [1, 2, 3], \"Col2\": [4, 5, 6], \"Col3\": [7, 8, 9]})"
   ]
  },
  {
   "cell_type": "code",
   "execution_count": 5,
   "id": "7624609c-9d3a-456c-afb0-67a67ec953d6",
   "metadata": {},
   "outputs": [],
   "source": [
    "import matplotlib.pyplot as plt"
   ]
  },
  {
   "cell_type": "code",
   "execution_count": 6,
   "id": "9fe31666-2702-4b70-b8aa-59a17c7b5695",
   "metadata": {},
   "outputs": [
    {
     "data": {
      "text/plain": [
       "[<matplotlib.lines.Line2D at 0x1be9a4d7c50>]"
      ]
     },
     "execution_count": 6,
     "metadata": {},
     "output_type": "execute_result"
    },
    {
     "data": {
      "image/png": "[encoded data removed]",
      "text/plain": [
       "<Figure size 640x480 with 1 Axes>"
      ]
     },
     "metadata": {},
     "output_type": "display_data"
    }
   ],
   "source": [
    "plt.plot([3.4, 1.2, 9.5, 5.1])"
   ]
  },
  {
   "cell_type": "code",
   "execution_count": 9,
   "id": "e08fc019-291e-4f40-96db-2d9978a014e2",
   "metadata": {},
   "outputs": [
    {
     "data": {
      "text/plain": [
       "<BarContainer object of 5 artists>"
      ]
     },
     "execution_count": 9,
     "metadata": {},
     "output_type": "execute_result"
    },
    {
     "data": {
      "image/png": "[encoded data removed]",
      "text/plain": [
       "<Figure size 640x480 with 1 Axes>"
      ]
     },
     "metadata": {},
     "output_type": "display_data"
    }
   ],
   "source": [
    "plt.bar([1, 2, 3, 4, 5], [3.4, 1.2, 9.5, 5.1, 7.7])"
   ]
  },
  {
   "cell_type": "markdown",
   "id": "3b8b7fa2-29bf-4cd3-87a9-645c161d716a",
   "metadata": {},
   "source": [
    "## Shortcuts"
   ]
  },
  {
   "cell_type": "markdown",
   "id": "2a968474-9ebf-4b66-a96b-d100e598e9c3",
   "metadata": {},
   "source": [
    "Strg/Shift + Enter: Zelle ausführen\n",
    "\n",
    "Pfeil hoch/hinunter: Zwischen Zellen bewegen\n",
    "\n",
    "Enter: Zelle betreten\n",
    "\n",
    "Escape: Zelle verlassen, ohne sie auszuführen\n",
    "\n",
    "A, B: Neue Zelle oben/unten hinzufügen\n",
    "\n",
    "D, D: Zelle löschen\n",
    "\n",
    "Z, Shift + Z: Undo, Redo\n",
    "\n",
    "X, C, V: Cut, Copy, Paste\n",
    "\n",
    "M, Y: Zwischen Markdown und Code umschalten"
   ]
  }
 ],
 "metadata": {
  "kernelspec": {
   "display_name": "Python 3 (ipykernel)",
   "language": "python",
   "name": "python3"
  },
  "language_info": {
   "codemirror_mode": {
    "name": "ipython",
    "version": 3
   },
   "file_extension": ".py",
   "mimetype": "text/x-python",
   "name": "python",
   "nbconvert_exporter": "python",
   "pygments_lexer": "ipython3",
   "version": "3.12.3"
  }
 },
 "nbformat": 4,
 "nbformat_minor": 5
}
