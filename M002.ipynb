{
 "cells": [
  {
   "cell_type": "markdown",
   "id": "8610c98c-3ed6-40b2-a70f-93f2ad44a3f3",
   "metadata": {},
   "source": [
    "# Numpy"
   ]
  },
  {
   "cell_type": "markdown",
   "id": "8467aa0e-f179-47c4-b4c2-f490d924a2d3",
   "metadata": {},
   "source": [
    "Bibliothek von sehr vielen Mathematischen Funktionen\n",
    "\n",
    "-> Verarbeitung von Zahlen\n",
    "\n",
    "Im Gegensatz zu Python sehr performant, weil in C geschrieben"
   ]
  },
  {
   "cell_type": "code",
   "execution_count": 1,
   "id": "4dc92cc6-5796-4247-a0c6-951c85de728c",
   "metadata": {},
   "outputs": [],
   "source": [
    "import numpy as np"
   ]
  },
  {
   "cell_type": "markdown",
   "id": "d9264b00-af66-4bb6-b837-a1c841957eb1",
   "metadata": {},
   "source": [
    "## Array\n",
    "\n",
    "Grundstruktur für Daten in Pandas, Matplotlib, ML, ...\n",
    "\n",
    "Kann auch mehrdimensional angelegt werden (2D -> Tabelle, 3D -> Würfel, ...)"
   ]
  },
  {
   "cell_type": "markdown",
   "id": "8b6dac8f-4a12-4bcc-b83e-c9a8c9c44ab7",
   "metadata": {},
   "source": [
    "### np.array\n",
    "\n",
    "Erzeugt aus einer Python Collection ein Numpy Array"
   ]
  },
  {
   "cell_type": "code",
   "execution_count": 2,
   "id": "aa50ee0f-b5b8-48d7-a03a-8ba8865786e0",
   "metadata": {},
   "outputs": [
    {
     "data": {
      "text/plain": [
       "array([1, 2, 3, 4])"
      ]
     },
     "execution_count": 2,
     "metadata": {},
     "output_type": "execute_result"
    }
   ],
   "source": [
    "np.array([1, 2, 3, 4])"
   ]
  },
  {
   "cell_type": "code",
   "execution_count": 3,
   "id": "9347316d-a030-4eed-b68b-876095334fdf",
   "metadata": {},
   "outputs": [],
   "source": [
    "a = np.array([1, 2, 3, 4])"
   ]
  },
  {
   "cell_type": "code",
   "execution_count": 6,
   "id": "4e3b1558-b365-4f61-b690-ea7c4a812944",
   "metadata": {},
   "outputs": [
    {
     "data": {
      "text/plain": [
       "array([1, 2, 3, 4])"
      ]
     },
     "execution_count": 6,
     "metadata": {},
     "output_type": "execute_result"
    }
   ],
   "source": [
    "a"
   ]
  },
  {
   "cell_type": "markdown",
   "id": "7c878c1f-7dd1-40c8-adf1-dfc0778db1bf",
   "metadata": {},
   "source": [
    "### Index"
   ]
  },
  {
   "cell_type": "code",
   "execution_count": 7,
   "id": "98c945c4-3492-449e-93a9-46dfb691c5f4",
   "metadata": {},
   "outputs": [
    {
     "data": {
      "text/plain": [
       "1"
      ]
     },
     "execution_count": 7,
     "metadata": {},
     "output_type": "execute_result"
    }
   ],
   "source": [
    "a[0]"
   ]
  },
  {
   "cell_type": "code",
   "execution_count": 8,
   "id": "8b9aaa31-4239-4f41-b8f1-a2e239ec7162",
   "metadata": {},
   "outputs": [
    {
     "data": {
      "text/plain": [
       "4"
      ]
     },
     "execution_count": 8,
     "metadata": {},
     "output_type": "execute_result"
    }
   ],
   "source": [
    "a[-1]"
   ]
  },
  {
   "cell_type": "code",
   "execution_count": 10,
   "id": "9939db65-47ad-496e-bdc8-001f2c7bc288",
   "metadata": {},
   "outputs": [
    {
     "data": {
      "text/plain": [
       "array([1, 2, 3])"
      ]
     },
     "execution_count": 10,
     "metadata": {},
     "output_type": "execute_result"
    }
   ],
   "source": [
    "a[0:3]  # Bereich auswählen"
   ]
  },
  {
   "cell_type": "code",
   "execution_count": 11,
   "id": "d41a6a13-06cf-4bf6-9769-7a0293ebc559",
   "metadata": {},
   "outputs": [],
   "source": [
    "b = np.array([4.2, 6.4, 1.2, 9.5])"
   ]
  },
  {
   "cell_type": "code",
   "execution_count": 12,
   "id": "3694a384-dc65-4a39-a2c9-3a1f2a631ff6",
   "metadata": {},
   "outputs": [
    {
     "data": {
      "text/plain": [
       "array([4.2, 6.4, 1.2, 9.5])"
      ]
     },
     "execution_count": 12,
     "metadata": {},
     "output_type": "execute_result"
    }
   ],
   "source": [
    "b"
   ]
  },
  {
   "cell_type": "markdown",
   "id": "86b0777a-29cb-4a66-b585-7679a6d7c415",
   "metadata": {},
   "source": [
    "### Datentypen\n",
    "\n",
    "In Python gibt es nur int und float (und complex)\n",
    "\n",
    "In Numpy haben wir Zugang zu genaueren Datentypen\n",
    "\n",
    "Ganze Zahlen:\n",
    "- int8\n",
    "- int16\n",
    "- int32 (Standard)\n",
    "- int64\n",
    "\n",
    "Kommazahlen:\n",
    "- float16\n",
    "- float32\n",
    "- float64 (Standard)"
   ]
  },
  {
   "cell_type": "code",
   "execution_count": 13,
   "id": "57de6359-2724-4268-a148-a08c86726998",
   "metadata": {},
   "outputs": [
    {
     "data": {
      "text/plain": [
       "dtype('int32')"
      ]
     },
     "execution_count": 13,
     "metadata": {},
     "output_type": "execute_result"
    }
   ],
   "source": [
    "a.dtype"
   ]
  },
  {
   "cell_type": "code",
   "execution_count": 14,
   "id": "9e4681d8-4e7d-462a-a687-675c61d607ac",
   "metadata": {},
   "outputs": [
    {
     "data": {
      "text/plain": [
       "dtype('float64')"
      ]
     },
     "execution_count": 14,
     "metadata": {},
     "output_type": "execute_result"
    }
   ],
   "source": [
    "b.dtype"
   ]
  },
  {
   "cell_type": "markdown",
   "id": "3688954a-70e9-4cf8-82e2-38936a919a4b",
   "metadata": {},
   "source": [
    "Anhand der Inhalte sind die Typen ineffizient -> bessere Typen verwenden"
   ]
  },
  {
   "cell_type": "code",
   "execution_count": 18,
   "id": "d62f6515-2293-4be6-945d-f5a6537d10f1",
   "metadata": {},
   "outputs": [],
   "source": [
    "a = np.array([1, 2, 3, 4], dtype=np.int8)"
   ]
  },
  {
   "cell_type": "code",
   "execution_count": 19,
   "id": "33c404ee-c5e5-44c2-a016-4b46e7dc9aef",
   "metadata": {},
   "outputs": [
    {
     "data": {
      "text/plain": [
       "array([1, 2, 3, 4], dtype=int8)"
      ]
     },
     "execution_count": 19,
     "metadata": {},
     "output_type": "execute_result"
    }
   ],
   "source": [
    "a"
   ]
  },
  {
   "cell_type": "code",
   "execution_count": 24,
   "id": "2fb550a5-28aa-49f0-a201-2cf4abcf2f60",
   "metadata": {},
   "outputs": [],
   "source": [
    "b = np.array([4.2, 6.4, 1.2, 9.5], dtype=np.float16)"
   ]
  },
  {
   "cell_type": "code",
   "execution_count": 25,
   "id": "5ae60dc9-33e6-4d20-bd2a-35f00b5234a7",
   "metadata": {},
   "outputs": [
    {
     "data": {
      "text/plain": [
       "array([4.2, 6.4, 1.2, 9.5], dtype=float16)"
      ]
     },
     "execution_count": 25,
     "metadata": {},
     "output_type": "execute_result"
    }
   ],
   "source": [
    "b"
   ]
  },
  {
   "cell_type": "markdown",
   "id": "901a08f4-0bd5-44d9-a405-a8c478608e5e",
   "metadata": {},
   "source": [
    "## Matrizen\n",
    "\n",
    "Zweidimensionales Array\n",
    "\n",
    "Jede Tabelle ist ein 2D-Array"
   ]
  },
  {
   "cell_type": "code",
   "execution_count": 46,
   "id": "dd751452-43b3-4fbb-9b05-ef89c19a75b3",
   "metadata": {},
   "outputs": [],
   "source": [
    "c = np.array([  # WICHTIG: Klammer muss bei array sein\n",
    "    [1, 2, 3],\n",
    "    [4, 5, 6],\n",
    "    [7, 8, 9]\n",
    "])"
   ]
  },
  {
   "cell_type": "code",
   "execution_count": 47,
   "id": "32cddcd8-5c13-477d-98b5-f10049d2dd38",
   "metadata": {},
   "outputs": [
    {
     "data": {
      "text/plain": [
       "array([[1, 2, 3],\n",
       "       [4, 5, 6],\n",
       "       [7, 8, 9]])"
      ]
     },
     "execution_count": 47,
     "metadata": {},
     "output_type": "execute_result"
    }
   ],
   "source": [
    "c"
   ]
  },
  {
   "cell_type": "code",
   "execution_count": 48,
   "id": "61a50d13-f173-4177-85a8-6eb3e383c5b7",
   "metadata": {},
   "outputs": [
    {
     "data": {
      "text/plain": [
       "9"
      ]
     },
     "execution_count": 48,
     "metadata": {},
     "output_type": "execute_result"
    }
   ],
   "source": [
    "c.size  # Gesamte Plätze"
   ]
  },
  {
   "cell_type": "code",
   "execution_count": 49,
   "id": "15faf47a-fa76-4a9e-b180-54a7f385d079",
   "metadata": {},
   "outputs": [
    {
     "data": {
      "text/plain": [
       "2"
      ]
     },
     "execution_count": 49,
     "metadata": {},
     "output_type": "execute_result"
    }
   ],
   "source": [
    "c.ndim  # Anzahl Dimensionen (hier 2)"
   ]
  },
  {
   "cell_type": "code",
   "execution_count": 50,
   "id": "7a490a67-a884-41e4-9151-c4f93ee27f7f",
   "metadata": {},
   "outputs": [
    {
     "data": {
      "text/plain": [
       "3"
      ]
     },
     "execution_count": 50,
     "metadata": {},
     "output_type": "execute_result"
    }
   ],
   "source": [
    "len(c)  # 3, weil in dem Oberen Array drei kleinere Arrays enthalten sind"
   ]
  },
  {
   "cell_type": "code",
   "execution_count": 51,
   "id": "5a66bdbf-f0a5-49e7-bad5-098e7164419a",
   "metadata": {},
   "outputs": [
    {
     "data": {
      "text/plain": [
       "3"
      ]
     },
     "execution_count": 51,
     "metadata": {},
     "output_type": "execute_result"
    }
   ],
   "source": [
    "len(c[0])  # Wieviele Elemente sind in dieser Zeile enthalten?"
   ]
  },
  {
   "cell_type": "code",
   "execution_count": 52,
   "id": "9e2e041c-f1c5-4a6c-8295-bc6589d95bb4",
   "metadata": {},
   "outputs": [
    {
     "data": {
      "text/plain": [
       "3"
      ]
     },
     "execution_count": 52,
     "metadata": {},
     "output_type": "execute_result"
    }
   ],
   "source": [
    "len(c)  # Wieviele Zeilen gibt es?"
   ]
  },
  {
   "cell_type": "markdown",
   "id": "c8c7591f-6e0c-4556-a280-5e5e2f4b1c6c",
   "metadata": {},
   "source": [
    "### Matrix angreifen"
   ]
  },
  {
   "cell_type": "code",
   "execution_count": 54,
   "id": "efe8e411-c2a3-47fe-b8ca-796b0471ee0a",
   "metadata": {},
   "outputs": [
    {
     "data": {
      "text/plain": [
       "array([4, 5, 6])"
      ]
     },
     "execution_count": 54,
     "metadata": {},
     "output_type": "execute_result"
    }
   ],
   "source": [
    "c[1]"
   ]
  },
  {
   "cell_type": "code",
   "execution_count": 55,
   "id": "adc47c90-648b-4ee6-a6d8-7275ef463fd7",
   "metadata": {},
   "outputs": [
    {
     "data": {
      "text/plain": [
       "6"
      ]
     },
     "execution_count": 55,
     "metadata": {},
     "output_type": "execute_result"
    }
   ],
   "source": [
    "c[1][2]"
   ]
  },
  {
   "cell_type": "code",
   "execution_count": 57,
   "id": "9423da05-8f66-42c1-adae-886a700f46d8",
   "metadata": {},
   "outputs": [
    {
     "data": {
      "text/plain": [
       "6"
      ]
     },
     "execution_count": 57,
     "metadata": {},
     "output_type": "execute_result"
    }
   ],
   "source": [
    "c[1, 2]  # In Numpy möglich, in Python nicht möglich"
   ]
  },
  {
   "cell_type": "code",
   "execution_count": 59,
   "id": "b4edaed9-1128-4248-8aed-315d39fcff33",
   "metadata": {},
   "outputs": [],
   "source": [
    "d = np.array([[[1, 2], [3, 4]], [[5, 6], [7, 8]]])"
   ]
  },
  {
   "cell_type": "code",
   "execution_count": 60,
   "id": "cde01876-5ce5-4c87-aa35-497b68af4e59",
   "metadata": {},
   "outputs": [
    {
     "data": {
      "text/plain": [
       "array([[[1, 2],\n",
       "        [3, 4]],\n",
       "\n",
       "       [[5, 6],\n",
       "        [7, 8]]])"
      ]
     },
     "execution_count": 60,
     "metadata": {},
     "output_type": "execute_result"
    }
   ],
   "source": [
    "d"
   ]
  },
  {
   "cell_type": "code",
   "execution_count": 64,
   "id": "d243e816-63bb-4595-bb05-a6dc756cccdf",
   "metadata": {},
   "outputs": [
    {
     "data": {
      "text/plain": [
       "6"
      ]
     },
     "execution_count": 64,
     "metadata": {},
     "output_type": "execute_result"
    }
   ],
   "source": [
    "d[1, 0, 1]"
   ]
  },
  {
   "cell_type": "markdown",
   "id": "efe0587e-93a9-40c1-a139-87290f4f6530",
   "metadata": {},
   "source": [
    "#### Slicing von Matrizen\n",
    "\n",
    "= Teile von Matrizen nehmen"
   ]
  },
  {
   "cell_type": "code",
   "execution_count": 65,
   "id": "e207d140-8b43-4caa-9850-b979e3a7b62d",
   "metadata": {},
   "outputs": [
    {
     "data": {
      "text/plain": [
       "array([[1, 2, 3],\n",
       "       [4, 5, 6],\n",
       "       [7, 8, 9]])"
      ]
     },
     "execution_count": 65,
     "metadata": {},
     "output_type": "execute_result"
    }
   ],
   "source": [
    "c"
   ]
  },
  {
   "cell_type": "code",
   "execution_count": 66,
   "id": "ab3ec23a-87f0-443e-a162-1c473ef14c18",
   "metadata": {},
   "outputs": [
    {
     "data": {
      "text/plain": [
       "array([[1, 2, 3],\n",
       "       [4, 5, 6]])"
      ]
     },
     "execution_count": 66,
     "metadata": {},
     "output_type": "execute_result"
    }
   ],
   "source": [
    "c[0:2]"
   ]
  },
  {
   "cell_type": "markdown",
   "id": "9ac400f5-fec0-4dfc-9e7b-7f3be3e8d1d9",
   "metadata": {},
   "source": [
    "Aufgabe: Die Rechte Spalte nehmen (3, 6, 9)"
   ]
  },
  {
   "cell_type": "code",
   "execution_count": 68,
   "id": "00b80ca8-0c81-4a90-97d0-d6d611e5dbed",
   "metadata": {},
   "outputs": [
    {
     "data": {
      "text/plain": [
       "array([3, 6, 9])"
      ]
     },
     "execution_count": 68,
     "metadata": {},
     "output_type": "execute_result"
    }
   ],
   "source": [
    "c[:, -1]\n",
    "# Erster Index: Doppelpunkt, nimmt alle Zeilen\n",
    "# Zweiter Index: Nimmt von allen Spalten nur die letzte (-1)"
   ]
  },
  {
   "cell_type": "markdown",
   "id": "87c59359-b8f7-4872-b49b-c533264a8544",
   "metadata": {},
   "source": [
    "Aufgabe: Quadrat unten rechts (5, 6, 8, 9)"
   ]
  },
  {
   "cell_type": "code",
   "execution_count": 72,
   "id": "e3034ad7-b233-4c4e-9382-fc3e6b821322",
   "metadata": {},
   "outputs": [
    {
     "data": {
      "text/plain": [
       "array([[5, 6],\n",
       "       [8, 9]])"
      ]
     },
     "execution_count": 72,
     "metadata": {},
     "output_type": "execute_result"
    }
   ],
   "source": [
    "c[1:, 1:]"
   ]
  },
  {
   "cell_type": "markdown",
   "id": "54d52d87-e9b6-4949-bcfd-6a78037d8077",
   "metadata": {},
   "source": [
    "Aufgabe: 1, 4 entnehmen"
   ]
  },
  {
   "cell_type": "code",
   "execution_count": 75,
   "id": "77c0fe4a-45b3-4828-8046-4f37ef6754ec",
   "metadata": {},
   "outputs": [
    {
     "data": {
      "text/plain": [
       "array([1, 4])"
      ]
     },
     "execution_count": 75,
     "metadata": {},
     "output_type": "execute_result"
    }
   ],
   "source": [
    "c[:2, 0]"
   ]
  },
  {
   "cell_type": "markdown",
   "id": "5f85cfba-9e74-4db3-a16b-e63caed6613e",
   "metadata": {},
   "source": [
    "#### Neue Werte eintragen"
   ]
  },
  {
   "cell_type": "code",
   "execution_count": 81,
   "id": "3e958430-5012-4ace-83a1-ddaefde8e517",
   "metadata": {},
   "outputs": [],
   "source": [
    "c[1, 1] = 50"
   ]
  },
  {
   "cell_type": "code",
   "execution_count": 82,
   "id": "fae05e99-6d1d-4053-b6e7-82baf1a877cf",
   "metadata": {},
   "outputs": [
    {
     "data": {
      "text/plain": [
       "array([[ 1,  2,  3],\n",
       "       [ 4, 50,  6],\n",
       "       [ 7,  8,  9]])"
      ]
     },
     "execution_count": 82,
     "metadata": {},
     "output_type": "execute_result"
    }
   ],
   "source": [
    "c"
   ]
  },
  {
   "cell_type": "code",
   "execution_count": 83,
   "id": "db7ee3db-81cd-4bbf-becd-8f5720518c8b",
   "metadata": {},
   "outputs": [],
   "source": [
    "c[0] = 100"
   ]
  },
  {
   "cell_type": "code",
   "execution_count": 84,
   "id": "4c25e36c-ad02-424a-bea8-5607eaff8d3d",
   "metadata": {},
   "outputs": [
    {
     "data": {
      "text/plain": [
       "array([[100, 100, 100],\n",
       "       [  4,  50,   6],\n",
       "       [  7,   8,   9]])"
      ]
     },
     "execution_count": 84,
     "metadata": {},
     "output_type": "execute_result"
    }
   ],
   "source": [
    "c"
   ]
  },
  {
   "cell_type": "code",
   "execution_count": 87,
   "id": "949f47c1-370f-457d-88eb-3b34a6cee5f5",
   "metadata": {},
   "outputs": [],
   "source": [
    "c[1:, 1:] = 5"
   ]
  },
  {
   "cell_type": "code",
   "execution_count": 88,
   "id": "b597bdb7-9bc6-4464-990b-5b72f03893cb",
   "metadata": {},
   "outputs": [
    {
     "data": {
      "text/plain": [
       "array([[100, 100, 100],\n",
       "       [  4,   5,   5],\n",
       "       [  7,   5,   5]])"
      ]
     },
     "execution_count": 88,
     "metadata": {},
     "output_type": "execute_result"
    }
   ],
   "source": [
    "c"
   ]
  },
  {
   "cell_type": "markdown",
   "id": "38f35f83-aec4-420e-ad63-86d23a1d47e4",
   "metadata": {},
   "source": [
    "#### Einfache Analyse von Daten"
   ]
  },
  {
   "cell_type": "code",
   "execution_count": 89,
   "id": "54931303-6e0f-4538-8e5f-5e1b639bb98b",
   "metadata": {},
   "outputs": [
    {
     "data": {
      "text/plain": [
       "331"
      ]
     },
     "execution_count": 89,
     "metadata": {},
     "output_type": "execute_result"
    }
   ],
   "source": [
    "c.sum()"
   ]
  },
  {
   "cell_type": "code",
   "execution_count": 90,
   "id": "d4a201fd-ccbb-4db7-8fcc-969424b9d4bd",
   "metadata": {},
   "outputs": [
    {
     "data": {
      "text/plain": [
       "36.77777777777778"
      ]
     },
     "execution_count": 90,
     "metadata": {},
     "output_type": "execute_result"
    }
   ],
   "source": [
    "c.mean()"
   ]
  },
  {
   "cell_type": "code",
   "execution_count": 91,
   "id": "9141c86f-257f-48fc-9a4e-5023512b4bda",
   "metadata": {},
   "outputs": [
    {
     "data": {
      "text/plain": [
       "44.71086812392555"
      ]
     },
     "execution_count": 91,
     "metadata": {},
     "output_type": "execute_result"
    }
   ],
   "source": [
    "c.std()"
   ]
  },
  {
   "cell_type": "code",
   "execution_count": 92,
   "id": "34f9a5fc-4c22-4f7b-a1ce-dc9337fe5515",
   "metadata": {},
   "outputs": [
    {
     "data": {
      "text/plain": [
       "1999.0617283950617"
      ]
     },
     "execution_count": 92,
     "metadata": {},
     "output_type": "execute_result"
    }
   ],
   "source": [
    "c.var()"
   ]
  },
  {
   "cell_type": "code",
   "execution_count": 93,
   "id": "d8d7de48-6814-4cf8-9475-4f05cef57e74",
   "metadata": {},
   "outputs": [
    {
     "data": {
      "text/plain": [
       "300"
      ]
     },
     "execution_count": 93,
     "metadata": {},
     "output_type": "execute_result"
    }
   ],
   "source": [
    "c[0].sum()"
   ]
  },
  {
   "cell_type": "code",
   "execution_count": 95,
   "id": "d70001c1-41a1-4861-bae4-05d39189b45a",
   "metadata": {},
   "outputs": [
    {
     "data": {
      "text/plain": [
       "20"
      ]
     },
     "execution_count": 95,
     "metadata": {},
     "output_type": "execute_result"
    }
   ],
   "source": [
    "c[1:, 1:].sum()"
   ]
  },
  {
   "cell_type": "code",
   "execution_count": 99,
   "id": "b12a5b58-758a-4537-afa3-399e57b4aa1c",
   "metadata": {},
   "outputs": [
    {
     "data": {
      "text/plain": [
       "array([111, 110, 110])"
      ]
     },
     "execution_count": 99,
     "metadata": {},
     "output_type": "execute_result"
    }
   ],
   "source": [
    "c.sum(axis=0)  # Spaltenweise summieren"
   ]
  },
  {
   "cell_type": "code",
   "execution_count": 100,
   "id": "d6c0e739-608a-49d1-9ede-5b5d24088f6c",
   "metadata": {},
   "outputs": [
    {
     "data": {
      "text/plain": [
       "array([300,  14,  17])"
      ]
     },
     "execution_count": 100,
     "metadata": {},
     "output_type": "execute_result"
    }
   ],
   "source": [
    "c.sum(axis=1)  # Zeilenweise summieren"
   ]
  },
  {
   "cell_type": "code",
   "execution_count": 103,
   "id": "93fa5973-ad16-4a7f-ae22-5f624fb2d082",
   "metadata": {},
   "outputs": [
    {
     "data": {
      "text/plain": [
       "331"
      ]
     },
     "execution_count": 103,
     "metadata": {},
     "output_type": "execute_result"
    }
   ],
   "source": [
    "np.sum(c)  # Funktionen über np selbst aufrufen (statt über das Array)"
   ]
  },
  {
   "cell_type": "markdown",
   "id": "1afa2461-7b9f-42c0-916a-d22491fddc2e",
   "metadata": {},
   "source": [
    "### Vektorisierung von Arrays\n",
    "\n",
    "Gesamtes Array mit einer Operation verändern"
   ]
  },
  {
   "cell_type": "code",
   "execution_count": 113,
   "id": "cec7ab48-12d0-4f66-8c96-404ff423df36",
   "metadata": {},
   "outputs": [],
   "source": [
    "d = np.array([\n",
    "    [1, 2, 3],\n",
    "    [4, 5, 6],\n",
    "    [7, 8, 9]\n",
    "])"
   ]
  },
  {
   "cell_type": "code",
   "execution_count": 114,
   "id": "8f5ed0d1-be2b-405d-8361-d29cafd2d662",
   "metadata": {},
   "outputs": [
    {
     "data": {
      "text/plain": [
       "array([[1, 2, 3],\n",
       "       [4, 5, 6],\n",
       "       [7, 8, 9]])"
      ]
     },
     "execution_count": 114,
     "metadata": {},
     "output_type": "execute_result"
    }
   ],
   "source": [
    "d"
   ]
  },
  {
   "cell_type": "code",
   "execution_count": 120,
   "id": "864afb47-8676-4d8e-a0ce-3652b52763c1",
   "metadata": {},
   "outputs": [
    {
     "data": {
      "text/plain": [
       "array([[11, 12, 13],\n",
       "       [14, 15, 16],\n",
       "       [17, 18, 19]])"
      ]
     },
     "execution_count": 120,
     "metadata": {},
     "output_type": "execute_result"
    }
   ],
   "source": [
    "d + 10  # Vektorisierung mit einem einzelnen Wert"
   ]
  },
  {
   "cell_type": "code",
   "execution_count": 116,
   "id": "de938556-bb54-4ecf-9084-2ede621aeb96",
   "metadata": {},
   "outputs": [
    {
     "data": {
      "text/plain": [
       "array([[ 1,  4,  9],\n",
       "       [16, 25, 36],\n",
       "       [49, 64, 81]])"
      ]
     },
     "execution_count": 116,
     "metadata": {},
     "output_type": "execute_result"
    }
   ],
   "source": [
    "d ** 2"
   ]
  },
  {
   "cell_type": "code",
   "execution_count": 117,
   "id": "eb304c4d-1b02-477b-a8ac-a07a5359fcd4",
   "metadata": {},
   "outputs": [
    {
     "data": {
      "text/plain": [
       "array([[0.5, 1. , 1.5],\n",
       "       [2. , 2.5, 3. ],\n",
       "       [3.5, 4. , 4.5]])"
      ]
     },
     "execution_count": 117,
     "metadata": {},
     "output_type": "execute_result"
    }
   ],
   "source": [
    "d / 2"
   ]
  },
  {
   "cell_type": "code",
   "execution_count": 119,
   "id": "7697dc06-0c59-42c9-a2a4-c3fdb50a505e",
   "metadata": {},
   "outputs": [
    {
     "data": {
      "text/plain": [
       "array([[101, 102, 103],\n",
       "       [  8,  10,  11],\n",
       "       [ 14,  13,  14]])"
      ]
     },
     "execution_count": 119,
     "metadata": {},
     "output_type": "execute_result"
    }
   ],
   "source": [
    "d + c  # Vektorisierung mit 2 Arrays"
   ]
  },
  {
   "cell_type": "markdown",
   "id": "124ef6f2-f35e-42fc-80cb-4eeac47efc68",
   "metadata": {},
   "source": [
    "### Boolean Masken\n",
    "\n",
    "Vektorisierung eines Arrays, mit einer Bedingung"
   ]
  },
  {
   "cell_type": "code",
   "execution_count": 122,
   "id": "785cd28b-0c17-4d7d-ba00-f66e705e090a",
   "metadata": {},
   "outputs": [
    {
     "data": {
      "text/plain": [
       "array([[False, False, False],\n",
       "       [False,  True,  True],\n",
       "       [ True,  True,  True]])"
      ]
     },
     "execution_count": 122,
     "metadata": {},
     "output_type": "execute_result"
    }
   ],
   "source": [
    "d >= 5  # Resultat: Array mit True/False"
   ]
  },
  {
   "cell_type": "markdown",
   "id": "26a13b4c-2501-433a-837e-14a2ea949c18",
   "metadata": {},
   "source": [
    "Dieses Array kann jetzt für eine Filterung verwendet werden"
   ]
  },
  {
   "cell_type": "code",
   "execution_count": 124,
   "id": "77745cb6-adba-43e2-a200-90ff6d3dd624",
   "metadata": {},
   "outputs": [
    {
     "data": {
      "text/plain": [
       "array([5, 6, 7, 8, 9])"
      ]
     },
     "execution_count": 124,
     "metadata": {},
     "output_type": "execute_result"
    }
   ],
   "source": [
    "d[d >= 5]  # Die Boolean Maske wird hier auf das Array selbst angewandt, nur die Werte welche bei der Boolean Maske True enthalten, kommen heraus (Filterung)"
   ]
  },
  {
   "cell_type": "code",
   "execution_count": 144,
   "id": "8142b803-fc7c-4170-b780-9b4f2ec1b8dc",
   "metadata": {},
   "outputs": [],
   "source": [
    "e = np.random.randint(10, size=20)  # Numpy Array mit Random Elementen erstellen"
   ]
  },
  {
   "cell_type": "code",
   "execution_count": 145,
   "id": "d19ac70e-79aa-4ac3-80e8-5519e764a890",
   "metadata": {},
   "outputs": [
    {
     "data": {
      "text/plain": [
       "array([6, 3, 9, 4, 2, 2, 5, 2, 6, 4, 0, 5, 8, 8, 4, 6, 8, 1, 4, 5])"
      ]
     },
     "execution_count": 145,
     "metadata": {},
     "output_type": "execute_result"
    }
   ],
   "source": [
    "e"
   ]
  },
  {
   "cell_type": "markdown",
   "id": "538c20d8-cbc4-4268-b188-4ded958572cc",
   "metadata": {},
   "source": [
    "Aufgabe: Alle Elemente finden, welche überdurchschnittlich sind"
   ]
  },
  {
   "cell_type": "code",
   "execution_count": 155,
   "id": "736ac140-ba4f-4042-884e-9fa6eb6d210a",
   "metadata": {},
   "outputs": [],
   "source": [
    "m = e[e >= e.mean()]"
   ]
  },
  {
   "cell_type": "code",
   "execution_count": 156,
   "id": "decae77a-c867-4896-841b-b1643f8b425c",
   "metadata": {},
   "outputs": [
    {
     "data": {
      "text/plain": [
       "array([6, 9, 5, 6, 5, 8, 8, 6, 8, 5])"
      ]
     },
     "execution_count": 156,
     "metadata": {},
     "output_type": "execute_result"
    }
   ],
   "source": [
    "m"
   ]
  },
  {
   "cell_type": "markdown",
   "id": "ec9009c9-14ba-4849-8a1a-84ca2c6b560e",
   "metadata": {},
   "source": [
    "Wieviele Ergebnisse sind das?"
   ]
  },
  {
   "cell_type": "code",
   "execution_count": 157,
   "id": "c60e2f4c-564f-4db5-8f6b-0b13225a7173",
   "metadata": {},
   "outputs": [
    {
     "data": {
      "text/plain": [
       "10"
      ]
     },
     "execution_count": 157,
     "metadata": {},
     "output_type": "execute_result"
    }
   ],
   "source": [
    "len(m)"
   ]
  },
  {
   "cell_type": "markdown",
   "id": "496cd955-8341-4115-b668-360f7be38c56",
   "metadata": {},
   "source": [
    "### Performance"
   ]
  },
  {
   "cell_type": "code",
   "execution_count": 162,
   "id": "978ed688-eb2a-4504-bb10-c5338107e1eb",
   "metadata": {},
   "outputs": [],
   "source": [
    "p = 5"
   ]
  },
  {
   "cell_type": "code",
   "execution_count": 163,
   "id": "6fd441b1-0f10-4cac-bf6d-a6dab6cfb979",
   "metadata": {},
   "outputs": [
    {
     "data": {
      "text/plain": [
       "int"
      ]
     },
     "execution_count": 163,
     "metadata": {},
     "output_type": "execute_result"
    }
   ],
   "source": [
    "type(p)"
   ]
  },
  {
   "cell_type": "code",
   "execution_count": 164,
   "id": "c87fd2fd-3e30-458f-8adb-97fe5d1a9ec6",
   "metadata": {},
   "outputs": [],
   "source": [
    "import sys"
   ]
  },
  {
   "cell_type": "code",
   "execution_count": 166,
   "id": "a07c7108-8c76-4ce3-a73f-ea913f5c8996",
   "metadata": {},
   "outputs": [
    {
     "data": {
      "text/plain": [
       "28"
      ]
     },
     "execution_count": 166,
     "metadata": {},
     "output_type": "execute_result"
    }
   ],
   "source": [
    "sys.getsizeof(p)  # Ein Python Int benötigt 28 Byte"
   ]
  },
  {
   "cell_type": "code",
   "execution_count": 168,
   "id": "ddea1180-cced-4d57-8fdf-3d9c6f7c0955",
   "metadata": {},
   "outputs": [
    {
     "data": {
      "text/plain": [
       "4"
      ]
     },
     "execution_count": 168,
     "metadata": {},
     "output_type": "execute_result"
    }
   ],
   "source": [
    "np.array([1, 2, 3]).itemsize  # Numpy Ints benötigen nur 4 Byte"
   ]
  },
  {
   "cell_type": "code",
   "execution_count": 170,
   "id": "a03a4606-8111-4ab5-a502-f65fcf3a23ee",
   "metadata": {},
   "outputs": [
    {
     "data": {
      "text/plain": [
       "1"
      ]
     },
     "execution_count": 170,
     "metadata": {},
     "output_type": "execute_result"
    }
   ],
   "source": [
    "np.array([1, 2, 3], dtype=np.int8).itemsize  # np.int8 benötigt nur 1 Byte"
   ]
  },
  {
   "cell_type": "markdown",
   "id": "84b47d44-edef-4d84-9557-558ef378f23e",
   "metadata": {},
   "source": [
    "#### Vergleich"
   ]
  },
  {
   "cell_type": "code",
   "execution_count": 172,
   "id": "809e1bf0-3d75-4293-b5be-3ec46a074b92",
   "metadata": {},
   "outputs": [],
   "source": [
    "import time\n",
    "def measureTime(func):\n",
    "    start = time.time()\n",
    "    func()\n",
    "    end = time.time()\n",
    "    print(end - start)"
   ]
  },
  {
   "cell_type": "code",
   "execution_count": 174,
   "id": "243332fc-6101-4fbd-b229-b0d0ec5892be",
   "metadata": {},
   "outputs": [],
   "source": [
    "def pythonList():\n",
    "    list(range(100_000_000))"
   ]
  },
  {
   "cell_type": "code",
   "execution_count": 176,
   "id": "c6e14951-e345-4a59-a696-21bc498bb0d1",
   "metadata": {},
   "outputs": [],
   "source": [
    "pythonList()  # 2.8 GB an Daten werden im RAM angelegt"
   ]
  },
  {
   "cell_type": "code",
   "execution_count": 181,
   "id": "b9310983-e052-4e1a-bc3a-09fb6b14f746",
   "metadata": {},
   "outputs": [],
   "source": [
    "def numpyArray():\n",
    "    np.arange(100_000_000)"
   ]
  },
  {
   "cell_type": "code",
   "execution_count": 179,
   "id": "7714bd87-ebae-4f08-b290-503e4c1cc513",
   "metadata": {},
   "outputs": [],
   "source": [
    "numpyArray()  # 400 MB werden hier angelegt"
   ]
  },
  {
   "cell_type": "code",
   "execution_count": 180,
   "id": "ef26addd-75c6-4fbf-8e51-f2b8f5a8bd5d",
   "metadata": {},
   "outputs": [
    {
     "name": "stdout",
     "output_type": "stream",
     "text": [
      "2.9765806198120117\n",
      "0.15674781799316406\n"
     ]
    }
   ],
   "source": [
    "measureTime(pythonList)\n",
    "measureTime(numpyArray)"
   ]
  },
  {
   "cell_type": "markdown",
   "id": "1116b6de-00ce-4bb1-a534-5b7003c6c439",
   "metadata": {},
   "source": [
    "### Weitere Funktionen"
   ]
  },
  {
   "cell_type": "code",
   "execution_count": 182,
   "id": "e3b7933b-bdd7-495e-957a-bb4a40e1169b",
   "metadata": {},
   "outputs": [
    {
     "data": {
      "text/plain": [
       "60"
      ]
     },
     "execution_count": 182,
     "metadata": {},
     "output_type": "execute_result"
    }
   ],
   "source": [
    "np.random.randint(100)"
   ]
  },
  {
   "cell_type": "code",
   "execution_count": 183,
   "id": "5f26ad8f-28f1-4a73-9ad7-86f3f559b2ab",
   "metadata": {},
   "outputs": [
    {
     "data": {
      "text/plain": [
       "array([[66, 72, 87, 41, 34],\n",
       "       [29,  1, 17, 97,  0],\n",
       "       [32, 89, 23, 97, 27],\n",
       "       [79, 22,  2, 97, 10],\n",
       "       [41, 38, 71, 47, 32]])"
      ]
     },
     "execution_count": 183,
     "metadata": {},
     "output_type": "execute_result"
    }
   ],
   "source": [
    "np.random.randint(100, size=(5, 5))"
   ]
  },
  {
   "cell_type": "code",
   "execution_count": 184,
   "id": "5b9ed25c-6377-4c3a-a3cd-0134010c712c",
   "metadata": {},
   "outputs": [
    {
     "data": {
      "text/plain": [
       "0.8037414907605739"
      ]
     },
     "execution_count": 184,
     "metadata": {},
     "output_type": "execute_result"
    }
   ],
   "source": [
    "np.random.random()"
   ]
  },
  {
   "cell_type": "code",
   "execution_count": 185,
   "id": "460de8c3-a9e9-4fd4-949c-dbc30458338a",
   "metadata": {},
   "outputs": [
    {
     "data": {
      "text/plain": [
       "array([[0.7665331 , 0.30523658, 0.7272719 , 0.92474639, 0.03205978],\n",
       "       [0.66148361, 0.51036839, 0.55974413, 0.32641725, 0.67074014],\n",
       "       [0.50748999, 0.49224571, 0.86554831, 0.10789513, 0.07305769],\n",
       "       [0.9569921 , 0.99692746, 0.97573099, 0.45562986, 0.26175019],\n",
       "       [0.88310658, 0.43900339, 0.75763621, 0.3100946 , 0.25840045]])"
      ]
     },
     "execution_count": 185,
     "metadata": {},
     "output_type": "execute_result"
    }
   ],
   "source": [
    "np.random.random(size=(5, 5))"
   ]
  },
  {
   "cell_type": "markdown",
   "id": "dbe8bc11-b0ea-4c65-a00c-b3b3e46eeff8",
   "metadata": {},
   "source": [
    "#### reshape\n",
    "\n",
    "Von einem Array die Dimensionen ändern (z.B. 2D -> 1D, 1D -> 2D)"
   ]
  },
  {
   "cell_type": "code",
   "execution_count": 186,
   "id": "e3b5c70e-6fb7-4065-a0e1-c088459e981d",
   "metadata": {},
   "outputs": [
    {
     "data": {
      "text/plain": [
       "array([0, 1, 2, 3, 4, 5, 6, 7, 8, 9])"
      ]
     },
     "execution_count": 186,
     "metadata": {},
     "output_type": "execute_result"
    }
   ],
   "source": [
    "np.arange(10)"
   ]
  },
  {
   "cell_type": "code",
   "execution_count": 208,
   "id": "8bcf0e6c-848b-4b20-9108-17f5449a8496",
   "metadata": {},
   "outputs": [
    {
     "data": {
      "text/plain": [
       "array([[0],\n",
       "       [1],\n",
       "       [2],\n",
       "       [3],\n",
       "       [4],\n",
       "       [5],\n",
       "       [6],\n",
       "       [7],\n",
       "       [8],\n",
       "       [9]])"
      ]
     },
     "execution_count": 208,
     "metadata": {},
     "output_type": "execute_result"
    }
   ],
   "source": [
    "np.arange(10).reshape(-1, 1)  # 1D -> 2D"
   ]
  },
  {
   "cell_type": "code",
   "execution_count": 196,
   "id": "55593c3f-2906-4181-8487-fa730e15d995",
   "metadata": {},
   "outputs": [
    {
     "data": {
      "text/plain": [
       "array([[0.7196821 ],\n",
       "       [0.32245229],\n",
       "       [0.52869197],\n",
       "       [0.51150358],\n",
       "       [0.968559  ]])"
      ]
     },
     "execution_count": 196,
     "metadata": {},
     "output_type": "execute_result"
    }
   ],
   "source": [
    "np.random.random(size=(5, 1))"
   ]
  },
  {
   "cell_type": "code",
   "execution_count": 202,
   "id": "39e75e45-976b-40a6-869e-5683646ad380",
   "metadata": {},
   "outputs": [
    {
     "data": {
      "text/plain": [
       "array([0.59428627, 0.67724974, 0.00751159, 0.15623003, 0.44174879])"
      ]
     },
     "execution_count": 202,
     "metadata": {},
     "output_type": "execute_result"
    }
   ],
   "source": [
    "np.random.random(size=(5, 1)).reshape(-1, )  # 2D -> 1D"
   ]
  },
  {
   "cell_type": "code",
   "execution_count": 204,
   "id": "1a38ccf9-0d50-4e3f-835a-54527dbba7e3",
   "metadata": {},
   "outputs": [
    {
     "data": {
      "text/plain": [
       "array([25, 28, 39, 71, 10, 85, 16, 52, 55, 36,  4, 98, 65, 78, 25, 37, 66,\n",
       "       31, 75, 27, 10, 14, 10, 83,  9, 57, 50,  3, 38, 56,  0, 89, 44, 50,\n",
       "        5, 71, 62, 65, 32, 17, 50, 40, 43, 54, 86, 21, 73, 86,  2, 13, 40,\n",
       "       43, 39,  7, 22, 85, 21, 76,  3, 59, 95,  0, 24, 46, 58, 25, 91, 13,\n",
       "        9, 40, 19, 44, 11, 43, 40,  8, 56,  3,  5, 98,  1, 14, 76, 25, 90,\n",
       "       86, 59, 88,  8, 72,  3, 26, 52, 36, 48, 63,  6, 41, 70])"
      ]
     },
     "execution_count": 204,
     "metadata": {},
     "output_type": "execute_result"
    }
   ],
   "source": [
    "np.random.randint(100, size=(99))  # 11x9 Array"
   ]
  },
  {
   "cell_type": "code",
   "execution_count": 205,
   "id": "7f2ab998-3ec2-411f-bd4e-7f2c9df11555",
   "metadata": {},
   "outputs": [
    {
     "data": {
      "text/plain": [
       "array([[38, 50, 48, 70, 19, 75, 61, 45, 80],\n",
       "       [ 2, 65,  0, 97, 94, 65, 86, 60, 94],\n",
       "       [37, 86, 59, 40,  0, 71,  0, 51, 18],\n",
       "       [34, 50,  4, 19,  2, 24, 46, 35, 77],\n",
       "       [38, 15,  0, 29, 80, 76,  5, 37, 38],\n",
       "       [92, 20, 54, 55, 61, 17, 25, 42, 84],\n",
       "       [14, 23, 24,  9, 14, 36, 65, 52, 83],\n",
       "       [ 1, 16, 80, 22,  5, 33, 99, 11, 54],\n",
       "       [83, 45, 95, 29, 44, 69, 20, 49, 65],\n",
       "       [56,  4, 45, 21, 76, 73, 92, 57, 47],\n",
       "       [33,  3,  4, 43,  3, 65, 49,  2, 96]])"
      ]
     },
     "execution_count": 205,
     "metadata": {},
     "output_type": "execute_result"
    }
   ],
   "source": [
    "np.random.randint(100, size=(99)).reshape(11, 9)"
   ]
  },
  {
   "cell_type": "code",
   "execution_count": 211,
   "id": "9c01406e-11b4-46a0-9dbf-64f35c445f7c",
   "metadata": {},
   "outputs": [
    {
     "data": {
      "text/plain": [
       "array([[[93, 52, 27, 18, 19, 83, 85, 93, 21, 62, 15],\n",
       "        [35, 22, 15, 48, 85, 90, 87, 46, 73, 31,  1],\n",
       "        [27, 58, 59, 90, 61, 86, 16,  6, 98, 54, 21]],\n",
       "\n",
       "       [[58,  5, 83, 48, 45,  9, 93, 11, 50, 61, 87],\n",
       "        [51, 67,  9, 21, 72, 88,  8, 34, 37, 75,  4],\n",
       "        [18, 37, 39,  8,  9, 67, 10, 78, 64,  8, 95]],\n",
       "\n",
       "       [[61, 26,  3, 23,  7, 40,  2, 64, 43, 80, 95],\n",
       "        [69, 17, 86, 71, 82, 17, 40, 57, 30, 87, 55],\n",
       "        [28, 61, 45, 47, 48, 68, 55,  4, 66, 88, 71]]])"
      ]
     },
     "execution_count": 211,
     "metadata": {},
     "output_type": "execute_result"
    }
   ],
   "source": [
    "np.random.randint(100, size=(99)).reshape(3, 3, 11)  # Quader erstellen"
   ]
  },
  {
   "cell_type": "markdown",
   "id": "5a9afad4-3be9-40c7-bb8d-7fb360edaf92",
   "metadata": {},
   "source": [
    "linspace\n",
    "\n",
    "Bereich von X bis Y erstellen, mit Z Elementen, wobei alle Elemente den gleichen Abstand haben"
   ]
  },
  {
   "cell_type": "code",
   "execution_count": 212,
   "id": "220a1b80-b548-4255-8ddf-71df71936e14",
   "metadata": {},
   "outputs": [
    {
     "data": {
      "text/plain": [
       "array([ 0.        ,  0.20408163,  0.40816327,  0.6122449 ,  0.81632653,\n",
       "        1.02040816,  1.2244898 ,  1.42857143,  1.63265306,  1.83673469,\n",
       "        2.04081633,  2.24489796,  2.44897959,  2.65306122,  2.85714286,\n",
       "        3.06122449,  3.26530612,  3.46938776,  3.67346939,  3.87755102,\n",
       "        4.08163265,  4.28571429,  4.48979592,  4.69387755,  4.89795918,\n",
       "        5.10204082,  5.30612245,  5.51020408,  5.71428571,  5.91836735,\n",
       "        6.12244898,  6.32653061,  6.53061224,  6.73469388,  6.93877551,\n",
       "        7.14285714,  7.34693878,  7.55102041,  7.75510204,  7.95918367,\n",
       "        8.16326531,  8.36734694,  8.57142857,  8.7755102 ,  8.97959184,\n",
       "        9.18367347,  9.3877551 ,  9.59183673,  9.79591837, 10.        ])"
      ]
     },
     "execution_count": 212,
     "metadata": {},
     "output_type": "execute_result"
    }
   ],
   "source": [
    "np.linspace(0, 10, 50)"
   ]
  },
  {
   "cell_type": "code",
   "execution_count": 221,
   "id": "2bf74fa3-b615-4a3f-bbac-a4550e4aa213",
   "metadata": {},
   "outputs": [
    {
     "data": {
      "text/plain": [
       "array([-20., -19., -18., -17., -16., -15., -14., -13., -12., -11., -10.,\n",
       "        -9.,  -8.,  -7.,  -6.,  -5.,  -4.,  -3.,  -2.,  -1.,   0.,   1.,\n",
       "         2.,   3.,   4.,   5.,   6.,   7.,   8.,   9.,  10.,  11.,  12.,\n",
       "        13.,  14.,  15.,  16.,  17.,  18.,  19.,  20.,  21.,  22.,  23.,\n",
       "        24.,  25.,  26.,  27.,  28.,  29.,  30.,  31.,  32.,  33.,  34.,\n",
       "        35.,  36.,  37.,  38.,  39.,  40.])"
      ]
     },
     "execution_count": 221,
     "metadata": {},
     "output_type": "execute_result"
    }
   ],
   "source": [
    "np.linspace(-20, 40, 61)"
   ]
  },
  {
   "cell_type": "code",
   "execution_count": 222,
   "id": "a272b1e8-410e-4fb1-9063-2aaacfbaf80d",
   "metadata": {},
   "outputs": [
    {
     "data": {
      "text/plain": [
       "array([0., 0., 0., 0., 0., 0., 0., 0., 0., 0.])"
      ]
     },
     "execution_count": 222,
     "metadata": {},
     "output_type": "execute_result"
    }
   ],
   "source": [
    "np.zeros(10)"
   ]
  },
  {
   "cell_type": "code",
   "execution_count": 223,
   "id": "e48f69da-f02c-4773-ad99-c357e9dadf89",
   "metadata": {},
   "outputs": [
    {
     "data": {
      "text/plain": [
       "array([1., 1., 1., 1., 1., 1., 1., 1., 1., 1.])"
      ]
     },
     "execution_count": 223,
     "metadata": {},
     "output_type": "execute_result"
    }
   ],
   "source": [
    "np.ones(10)"
   ]
  },
  {
   "cell_type": "markdown",
   "id": "2df35e33-4c0d-4ea2-96a3-f6b89456a68c",
   "metadata": {},
   "source": [
    "hstack, vstack\n",
    "\n",
    "Horizontale/Vertikale Verbindung von Arrays\n",
    "\n",
    "WICHTIG: Bei diesen Funktionen müssen die Parameter mit einer Liste zusammengruppiert werden"
   ]
  },
  {
   "cell_type": "code",
   "execution_count": 226,
   "id": "63c8e225-cbdb-4812-b9c9-49fd18c95736",
   "metadata": {},
   "outputs": [],
   "source": [
    "v = np.random.randint(10, size=(5, 10))"
   ]
  },
  {
   "cell_type": "code",
   "execution_count": 227,
   "id": "67c6888c-b373-4b75-a1fc-1d0aeee15b48",
   "metadata": {},
   "outputs": [
    {
     "data": {
      "text/plain": [
       "array([[8, 5, 9, 9, 4, 4, 9, 7, 0, 9],\n",
       "       [9, 0, 3, 9, 9, 9, 4, 1, 8, 5],\n",
       "       [3, 1, 4, 0, 7, 6, 6, 2, 3, 6],\n",
       "       [8, 7, 8, 9, 7, 6, 5, 3, 8, 7],\n",
       "       [3, 2, 4, 4, 3, 9, 2, 2, 3, 2]])"
      ]
     },
     "execution_count": 227,
     "metadata": {},
     "output_type": "execute_result"
    }
   ],
   "source": [
    "v"
   ]
  },
  {
   "cell_type": "markdown",
   "id": "7962b89c-4c89-4a08-9851-7b76fdc8246c",
   "metadata": {},
   "source": [
    "Aufgabe: Am Ende eine Spalte hinzufügen, welche die Summe aller Zeilen anzeigt"
   ]
  },
  {
   "cell_type": "code",
   "execution_count": 230,
   "id": "03acd9c6-1541-4f1c-aa31-06976d7b22e3",
   "metadata": {},
   "outputs": [
    {
     "data": {
      "text/plain": [
       "array([64, 57, 38, 68, 34])"
      ]
     },
     "execution_count": 230,
     "metadata": {},
     "output_type": "execute_result"
    }
   ],
   "source": [
    "v.sum(axis=1)"
   ]
  },
  {
   "cell_type": "code",
   "execution_count": 232,
   "id": "c45a7759-2756-44eb-9975-7cfbe6b55fd2",
   "metadata": {},
   "outputs": [
    {
     "ename": "ValueError",
     "evalue": "all the input arrays must have same number of dimensions, but the array at index 0 has 2 dimension(s) and the array at index 1 has 1 dimension(s)",
     "output_type": "error",
     "traceback": [
      "\u001b[1;31m---------------------------------------------------------------------------\u001b[0m",
      "\u001b[1;31mValueError\u001b[0m                                Traceback (most recent call last)",
      "Cell \u001b[1;32mIn[232], line 1\u001b[0m\n\u001b[1;32m----> 1\u001b[0m \u001b[43mnp\u001b[49m\u001b[38;5;241;43m.\u001b[39;49m\u001b[43mhstack\u001b[49m\u001b[43m(\u001b[49m\u001b[43m[\u001b[49m\u001b[43mv\u001b[49m\u001b[43m,\u001b[49m\u001b[43m \u001b[49m\u001b[43mv\u001b[49m\u001b[38;5;241;43m.\u001b[39;49m\u001b[43msum\u001b[49m\u001b[43m(\u001b[49m\u001b[43maxis\u001b[49m\u001b[38;5;241;43m=\u001b[39;49m\u001b[38;5;241;43m1\u001b[39;49m\u001b[43m)\u001b[49m\u001b[43m]\u001b[49m\u001b[43m)\u001b[49m  \u001b[38;5;66;03m# WICHTIG: Bei diesen Funktionen müssen die Parameter mit einer Liste zusammengruppiert werden\u001b[39;00m\n",
      "File \u001b[1;32m~\\AppData\\Local\\Programs\\Python\\Python312\\Lib\\site-packages\\numpy\\core\\shape_base.py:359\u001b[0m, in \u001b[0;36mhstack\u001b[1;34m(tup, dtype, casting)\u001b[0m\n\u001b[0;32m    357\u001b[0m     \u001b[38;5;28;01mreturn\u001b[39;00m _nx\u001b[38;5;241m.\u001b[39mconcatenate(arrs, \u001b[38;5;241m0\u001b[39m, dtype\u001b[38;5;241m=\u001b[39mdtype, casting\u001b[38;5;241m=\u001b[39mcasting)\n\u001b[0;32m    358\u001b[0m \u001b[38;5;28;01melse\u001b[39;00m:\n\u001b[1;32m--> 359\u001b[0m     \u001b[38;5;28;01mreturn\u001b[39;00m \u001b[43m_nx\u001b[49m\u001b[38;5;241;43m.\u001b[39;49m\u001b[43mconcatenate\u001b[49m\u001b[43m(\u001b[49m\u001b[43marrs\u001b[49m\u001b[43m,\u001b[49m\u001b[43m \u001b[49m\u001b[38;5;241;43m1\u001b[39;49m\u001b[43m,\u001b[49m\u001b[43m \u001b[49m\u001b[43mdtype\u001b[49m\u001b[38;5;241;43m=\u001b[39;49m\u001b[43mdtype\u001b[49m\u001b[43m,\u001b[49m\u001b[43m \u001b[49m\u001b[43mcasting\u001b[49m\u001b[38;5;241;43m=\u001b[39;49m\u001b[43mcasting\u001b[49m\u001b[43m)\u001b[49m\n",
      "\u001b[1;31mValueError\u001b[0m: all the input arrays must have same number of dimensions, but the array at index 0 has 2 dimension(s) and the array at index 1 has 1 dimension(s)"
     ]
    }
   ],
   "source": [
    "np.hstack([v, v.sum(axis=1)])  # WICHTIG: Bei diesen Funktionen müssen die Parameter mit einer Liste zusammengruppiert werden"
   ]
  },
  {
   "cell_type": "code",
   "execution_count": 234,
   "id": "5178de7b-1c45-4694-9cef-b85b8ab39893",
   "metadata": {},
   "outputs": [],
   "source": [
    "h = np.hstack([v, v.sum(axis=1).reshape(-1, 1)])"
   ]
  },
  {
   "cell_type": "code",
   "execution_count": 235,
   "id": "0c2912ec-eb80-43de-ab89-b384586d4674",
   "metadata": {},
   "outputs": [
    {
     "data": {
      "text/plain": [
       "array([[ 8,  5,  9,  9,  4,  4,  9,  7,  0,  9, 64],\n",
       "       [ 9,  0,  3,  9,  9,  9,  4,  1,  8,  5, 57],\n",
       "       [ 3,  1,  4,  0,  7,  6,  6,  2,  3,  6, 38],\n",
       "       [ 8,  7,  8,  9,  7,  6,  5,  3,  8,  7, 68],\n",
       "       [ 3,  2,  4,  4,  3,  9,  2,  2,  3,  2, 34]])"
      ]
     },
     "execution_count": 235,
     "metadata": {},
     "output_type": "execute_result"
    }
   ],
   "source": [
    "h"
   ]
  },
  {
   "cell_type": "markdown",
   "id": "cd63e806-8ca9-47a5-8652-62770bc3b7d1",
   "metadata": {},
   "source": [
    "Aufgabe: Am Ende eine Zeile hinzufügen, welche die Summe aller Spalten anzeigt"
   ]
  },
  {
   "cell_type": "code",
   "execution_count": 237,
   "id": "732a67a3-6d2a-4800-82ef-842f20c7cecc",
   "metadata": {},
   "outputs": [
    {
     "data": {
      "text/plain": [
       "array([ 31,  15,  28,  31,  30,  34,  26,  15,  22,  29, 261])"
      ]
     },
     "execution_count": 237,
     "metadata": {},
     "output_type": "execute_result"
    }
   ],
   "source": [
    "h.sum(axis=0)"
   ]
  },
  {
   "cell_type": "code",
   "execution_count": 238,
   "id": "8e31c13b-9d08-4585-bdfe-3b78cef5827f",
   "metadata": {},
   "outputs": [
    {
     "data": {
      "text/plain": [
       "array([[  8,   5,   9,   9,   4,   4,   9,   7,   0,   9,  64],\n",
       "       [  9,   0,   3,   9,   9,   9,   4,   1,   8,   5,  57],\n",
       "       [  3,   1,   4,   0,   7,   6,   6,   2,   3,   6,  38],\n",
       "       [  8,   7,   8,   9,   7,   6,   5,   3,   8,   7,  68],\n",
       "       [  3,   2,   4,   4,   3,   9,   2,   2,   3,   2,  34],\n",
       "       [ 31,  15,  28,  31,  30,  34,  26,  15,  22,  29, 261]])"
      ]
     },
     "execution_count": 238,
     "metadata": {},
     "output_type": "execute_result"
    }
   ],
   "source": [
    "np.vstack([h, h.sum(axis=0)])"
   ]
  },
  {
   "cell_type": "code",
   "execution_count": 239,
   "id": "68cb306d-7086-4a1f-80c2-d55130acd0b6",
   "metadata": {},
   "outputs": [
    {
     "data": {
      "text/plain": [
       "261"
      ]
     },
     "execution_count": 239,
     "metadata": {},
     "output_type": "execute_result"
    }
   ],
   "source": [
    "v.sum()"
   ]
  }
 ],
 "metadata": {
  "kernelspec": {
   "display_name": "Python 3 (ipykernel)",
   "language": "python",
   "name": "python3"
  },
  "language_info": {
   "codemirror_mode": {
    "name": "ipython",
    "version": 3
   },
   "file_extension": ".py",
   "mimetype": "text/x-python",
   "name": "python",
   "nbconvert_exporter": "python",
   "pygments_lexer": "ipython3",
   "version": "3.12.3"
  }
 },
 "nbformat": 4,
 "nbformat_minor": 5
}
